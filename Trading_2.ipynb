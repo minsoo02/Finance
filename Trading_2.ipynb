{
 "cells": [
  {
   "cell_type": "markdown",
   "metadata": {},
   "source": [
    "### 11. 자산가격결정원리: 채권과 금리의 관계"
   ]
  },
  {
   "cell_type": "markdown",
   "metadata": {},
   "source": [
    "**자산가격 = 추정현금흐름 / 금리(할인율, 할인커브)**\n",
    "\n",
    "자산: 모든 자산군 주식, 채권, 원자재, 외환 등을 포함  \n",
    "금리: 시장금리를 말한다. 채권의 쿠폰금리가 아님."
   ]
  },
  {
   "cell_type": "markdown",
   "metadata": {},
   "source": [
    "* **채권**의 경우 추정현금흐름이 발행시점의 쿠폰금리에 의해 고정되어있다.(채권을 **고정수익증권 Fixed Income Securities**라고 부르는 이유)  \n",
    "때문에 금리가 오르면 채권의 자산가격은 하락한다.\n",
    "\n",
    "\n",
    "* FICC에서 FI(Fixed Income)가 금리에 영향을 많이 받는 금리상품(Interest Rate Products)을 말한다.\n",
    "\n",
    "\n",
    "* **주식**, 원자재 같은 경우는 추정현금흐름이 고정적이지 않기에 금리의 영향력이 채권에 비해 미비하다."
   ]
  },
  {
   "cell_type": "markdown",
   "metadata": {},
   "source": [
    "### 12. 자산가격결정원리: 채권 프라이싱"
   ]
  },
  {
   "cell_type": "markdown",
   "metadata": {},
   "source": [
    "**Pricing**\n",
    "\n",
    "미래에 현금흐름을 창출하는 자산의 현재가치를 구하는 일"
   ]
  },
  {
   "cell_type": "markdown",
   "metadata": {},
   "source": [
    "#### 12.1 채권 프라이싱 과정"
   ]
  },
  {
   "cell_type": "markdown",
   "metadata": {},
   "source": [
    "**1. 채권의 미래현금흐름 측정**\n",
    "\n",
    "고정수익증권인 채권은 수익이 고정되어있기에 미래현금흐름을 측정하는데 어려움이 없다."
   ]
  },
  {
   "cell_type": "markdown",
   "metadata": {},
   "source": [
    "**2. 이자율 기간구조와 할인커브**\n",
    "\n",
    "**금리커브( Yield Curve )**와 **할인커브( Discount Curve )**는 대칭되는 모습을 가진다.\n",
    "\n",
    "**금리**: 만기가 길어질수록 만기 위험을 반영하여 금리가 높아진다.\n",
    "\n",
    "**할인계수**: 미래의 1원이 현재가치로 환산했을때 얼마인지를 나타내는 값\n",
    "\n",
    "**할인계수 = 1 / 금리**"
   ]
  },
  {
   "cell_type": "markdown",
   "metadata": {},
   "source": [
    "<img width=\"649\" alt=\"스크린샷 2020-12-27 오후 5 46 14\" src=\"https://user-images.githubusercontent.com/49624407/103167088-75346280-486b-11eb-9252-8fd9001a8901.png\">"
   ]
  },
  {
   "cell_type": "markdown",
   "metadata": {},
   "source": [
    "### 13. 할인계수와 금리커브"
   ]
  },
  {
   "cell_type": "markdown",
   "metadata": {},
   "source": [
    "#### 13.1 할인계수( Discount Factor )"
   ]
  },
  {
   "cell_type": "markdown",
   "metadata": {},
   "source": [
    "미래의 금액을 현재 시점으로 **할인( Discount )**하여 가지고 오는데 곱해야할 수치\n",
    "\n",
    "할인계수 = 현재가치 / 미래가치\n",
    "\n",
    "$Discount Factor = \\frac {PV}{FV}$"
   ]
  },
  {
   "cell_type": "markdown",
   "metadata": {},
   "source": [
    "할인계수는 금리를 통해서 추정할 수 있다.\n",
    "\n",
    "$ FV = PV * ( 1 + Interest Rate )$\n",
    "\n",
    "$ Discount Factor =  \\frac{PV}{FV} = \\frac{1}{1 + Interest Rate}$"
   ]
  },
  {
   "cell_type": "markdown",
   "metadata": {},
   "source": [
    "#### 13.2 할인커브와 금리커브"
   ]
  },
  {
   "cell_type": "markdown",
   "metadata": {},
   "source": [
    "**만기( Maturity )**\n",
    "\n",
    "금리시장은 주식시장과 다르게 만기가 존재한다.  \n",
    "만기가 있다는 건 같은 상품이라도 만기에 따라 가격 차이가 존재한다는 것이며, 만기로 인해 금리와 할인계수를 커브로 표현할 수 있다.\n",
    "\n",
    "할인커브와 금리커브에서 X축은 만기를 나타낸다. "
   ]
  },
  {
   "cell_type": "markdown",
   "metadata": {},
   "source": [
    "**Discount Factor** : $ DF_{t} = DF(t) $\n",
    "\n",
    "**Interest Rate** : $ r_{t} = r(t) $\n",
    "\n",
    "$ DF_{t} = e^{-r_{t}t} $\n",
    "\n",
    "시장에 존재하는 금리 데이터로 만기에 따른 금리커브를 만들 수 있고,  \n",
    "금리커브를 이용해서 할인커브를 만들 수 있다.\n",
    "\n",
    "할인커브를 통해서 금융상품을 Pricing 할 수 있다."
   ]
  }
 ],
 "metadata": {
  "kernelspec": {
   "display_name": "Python 3",
   "language": "python",
   "name": "python3"
  },
  "language_info": {
   "codemirror_mode": {
    "name": "ipython",
    "version": 3
   },
   "file_extension": ".py",
   "mimetype": "text/x-python",
   "name": "python",
   "nbconvert_exporter": "python",
   "pygments_lexer": "ipython3",
   "version": "3.7.6"
  },
  "toc": {
   "base_numbering": 1,
   "nav_menu": {},
   "number_sections": false,
   "sideBar": true,
   "skip_h1_title": false,
   "title_cell": "Table of Contents",
   "title_sidebar": "Contents",
   "toc_cell": false,
   "toc_position": {
    "height": "calc(100% - 180px)",
    "left": "10px",
    "top": "150px",
    "width": "258px"
   },
   "toc_section_display": true,
   "toc_window_display": true
  }
 },
 "nbformat": 4,
 "nbformat_minor": 4
}
