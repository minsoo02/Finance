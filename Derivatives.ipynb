{
 "cells": [
  {
   "cell_type": "markdown",
   "metadata": {},
   "source": [
    "**전환사채(Convertible Bond, CB), 신주인수권부사채(Bond with Warrants, BW)**\n",
    "1. 전환사채  \n",
    "발행할 땐 회사채이지만, 일정 기간이 지나 주식전환권이 발동하면 투자자가 원할 때 채권을 주식으로 바꿔 주가상승에 따른 차익을 볼 수 있는 구조\n",
    "\n",
    "2. 신주인수권부사채  \n",
    "발생 후 일정기간이 지나면 특정한 가격(신주인수가격)으로 발행주식을 살 수 있는 자격을 주는 동시에 만기까지 채권의 이자와 원금도 받을 수 있는 상품. 주식상승에 따른 자본이득, 채권에서 나오는 이자수입을 다 받기 때문에 BW의 채권 표면이자율은 CB보다 낮다."
   ]
  },
  {
   "cell_type": "markdown",
   "metadata": {},
   "source": [
    "**교환사채(Exchangeable Bonds, EB)**  \n",
    "투자자가 보유한 채권을 일정시일 경과 후 발행회사가 보유중인 다른 회사 유가증권으로 교환할 수 있는 권리가 있는 사채"
   ]
  },
  {
   "cell_type": "markdown",
   "metadata": {},
   "source": [
    "**파생결합증권(Derivatives-Linked Securities, DLS)**  \n",
    "기초자산에는 금리, 주가지수, 통화, 금, 원유, 철강, 곡물, 부동산 등의 실물자산도 대상.\n",
    "자산의 가치 변동에 따라 일정 수익을 얻을 수 있게 설계한 상품. 자산 가격에 큰 변동이 없으면 약속한 수익률을 보장받지만, 미리 정해둔 원금 손실 구간(knock-in)에 들어가면 원금 전액 손실 가능.  \n",
    "DLS는 원래 넓은 의미로 주가연계증권(ELS)을 포함하는 개념. 그러나 대개 주가 및 주가지수만을 기반으로 하는 ELS를 제외한 나머지 자산을 기초자산으로 삼는 것을 뜻함"
   ]
  },
  {
   "cell_type": "markdown",
   "metadata": {},
   "source": [
    "**주식워런트증권(Equity-Linked Warrant, ELW)**  \n",
    "기초자산을 사전에 정한 미래의 시기(만기일, 행사기간)에 미리 정한 가격(행사가격)으로 살 수 있거나(콜) 팔 수 있는(풋) 권리를 갖는 유가증권"
   ]
  },
  {
   "cell_type": "markdown",
   "metadata": {},
   "source": [
    "**조건부자본증권(Contingent Convertible Bond)**  \n",
    "유사시 투자 원금이 주식으로 강제 전환되거나 상각된다는 조건이 붙은 회사채.(역전환사채, 의무전환사채). 일반 채권보다 표면 금리가 높지만, 원금을 회수하지 못할 위험이 있음"
   ]
  },
  {
   "cell_type": "markdown",
   "metadata": {},
   "source": [
    "**대차거래**  \n",
    "장기보유, 장외시장  \n",
    "주식을 장기 보유하는 금융회사가 단기적으로 필요로하는 금융기관에 빌려주는 거래  \n",
    "주식을 빌린 회사는 주식가격 하락을 예상하여 빌린 주식을 팔았다가 주식 가격이 하락하면 주식을 다시 사서 차익을 챙기고 빌린 주식을 갚는다.  "
   ]
  },
  {
   "cell_type": "markdown",
   "metadata": {},
   "source": [
    "**공매도**  "
   ]
  },
  {
   "cell_type": "markdown",
   "metadata": {},
   "source": [
    "**CFD(Contract for difference)**  \n",
    "개인이 주식을 보유하지 않고 매매차익만 현금으로 결제하는 장외파생계약  \n",
    "증권사가 대출을 해주고 매매에 따른 수익만 투자자가 가지고 가는 파생상품. 금융회사가 대신해서 주식을 사주기 때문에 투자자는 양도세를 내지 않아도 된다."
   ]
  },
  {
   "cell_type": "markdown",
   "metadata": {},
   "source": [
    "### 1. 장내파생상품"
   ]
  },
  {
   "cell_type": "markdown",
   "metadata": {},
   "source": [
    "**위탁증거금**  \n",
    "증권회사가 투자자로부터 매매주문을 받았을 때 투자자에게 담보로 납부하게 하는 증거금  \n",
    "유가증권의 경우 보통 3일 후에 결재가 이루어지는데, 이때 위탁자가 납부하는 약정 대금의 일정 비율에 해당하는 금액"
   ]
  },
  {
   "cell_type": "markdown",
   "metadata": {},
   "source": [
    "**유지증거금**  \n",
    "선물 거래를 하는 데 필요한 최소한의 증거금.  \n",
    "선물 가격이 크게 떨어져 손실금액이 고객의 증거금을 초과하면 중계회사는 증거금 충당요구하는데 이 수준을 유지증거금이라 한다."
   ]
  },
  {
   "cell_type": "markdown",
   "metadata": {},
   "source": [
    "**선도거래(Forward Contract)**  \n",
    "당사자 간 계약된 가격으로 미래시점에 자산을 매매. 미래 날짜에 계약된 가격으로 정산이 이루어짐  \n",
    "장외거래.\n",
    "\n",
    "장점  \n",
    "1. 만기가 도래하기 전까지는 평가상의 손익만 발생 -> 현금의 흐름이 일어나지 않음\n",
    "2. 자신의 니즈에 정확히 대응하는 거래를 주문 제작 가능(장외거래이기 때문)"
   ]
  },
  {
   "cell_type": "markdown",
   "metadata": {},
   "source": [
    "**선물거래(Futures)**  \n",
    "선도거래와 같은 원리이지만, 선물거래는 일일 정산을 한다. 매일 장이 끝나고 손익을 현금으로 정산한다.  \n",
    "일일 정산을 위해 증거금 제도가 있다. (개시 증거금, 유지 증거금)  \n",
    "장내거래"
   ]
  },
  {
   "cell_type": "markdown",
   "metadata": {},
   "source": [
    "**스와프(Swap)**  \n",
    "두 거래 상대방이 미리 약정한 방식에 따라 물건 혹은 돈을 주고받는 모든 장외 파생 계약  \n",
    "* 플레인 바닐라 스와프(표준)\n",
    "    * 모두 델타원 파생금융\n",
    "    * FX swap, CCS(Cross Currency Swap), IRS(Interest Rate Swap)\n",
    "* 비정형 스와프\n",
    "\n",
    "\n",
    "* near leg : 거래에서 가까운 시점  \n",
    "* far leg : 거래에서 먼 시점"
   ]
  },
  {
   "cell_type": "markdown",
   "metadata": {},
   "source": [
    "**마진콜(margin call)**  \n",
    "선물거래에서 증거금이 일정 수준 이하로 떨어질 경우 개시 증거금 수준으로 맞춰 놓을 것을 거래소가 요구하는 것"
   ]
  },
  {
   "cell_type": "markdown",
   "metadata": {},
   "source": [
    "**옵션(Option)**  \n",
    "* 콜옵션"
   ]
  },
  {
   "cell_type": "markdown",
   "metadata": {},
   "source": [
    "**환매조건부채권(Repurchase Agreements, RP, Repo)**  \n",
    "금융기관이 일정기간 후에 다시 사는 조건으로 채권을 팔고 경과기간에 따라 소정의 이자를 붙여서 되사는 채권이다."
   ]
  },
  {
   "cell_type": "markdown",
   "metadata": {},
   "source": [
    "**델타원(Delta-One)파생거래**  \n",
    "선도, 선물, 스와프  \n",
    "파생금융의 기초자산 가격이 변함에 따라 파생금융 거래의 가격 또한 선형적으로 변함.  \n"
   ]
  },
  {
   "cell_type": "markdown",
   "metadata": {},
   "source": [
    "### 2. 외화"
   ]
  },
  {
   "cell_type": "markdown",
   "metadata": {},
   "source": [
    "**환 포지션**  \n",
    "외국한 매입액과 매도액의 차이, 외화채권과 외화채무와의 차액\n",
    "> 스퀘어 포지션 / 매입초과 포지션 / 매도초과 포지션 / 오픈 포지션"
   ]
  },
  {
   "cell_type": "markdown",
   "metadata": {},
   "source": [
    "**CRS 금리**  \n",
    "달러와 원화를 교환할 때 원화를 빌려주면서 고정금리를 받는데 이때 받는 고정금리가 CRS금리  \n",
    "CRS금리는 0%보다 높은 게 정상이고, 마이너스라면 원화를 빌려주면서 이자를 얻어주는 상황(원화 가치가 낮다는 상황)"
   ]
  },
  {
   "cell_type": "markdown",
   "metadata": {},
   "source": [
    "**FX마진거래**  \n",
    "외환을 개인이 직접 거래하는 것. 장외상품  \n",
    "예를 들어 달러를 매도하는 동시에 엔화를 매수하는 방식. 가격이 떨어질 것 같으면 매도를 하고 오르면 매수를 하여 수익 발생"
   ]
  }
 ],
 "metadata": {
  "kernelspec": {
   "display_name": "Python 3",
   "language": "python",
   "name": "python3"
  },
  "language_info": {
   "codemirror_mode": {
    "name": "ipython",
    "version": 3
   },
   "file_extension": ".py",
   "mimetype": "text/x-python",
   "name": "python",
   "nbconvert_exporter": "python",
   "pygments_lexer": "ipython3",
   "version": "3.7.6"
  },
  "toc": {
   "base_numbering": 1,
   "nav_menu": {},
   "number_sections": false,
   "sideBar": true,
   "skip_h1_title": false,
   "title_cell": "Table of Contents",
   "title_sidebar": "Contents",
   "toc_cell": false,
   "toc_position": {
    "height": "calc(100% - 180px)",
    "left": "10px",
    "top": "150px",
    "width": "165px"
   },
   "toc_section_display": true,
   "toc_window_display": false
  }
 },
 "nbformat": 4,
 "nbformat_minor": 2
}
