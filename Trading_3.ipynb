{
 "cells": [
  {
   "cell_type": "markdown",
   "metadata": {},
   "source": [
    "**내용 및 이미지 출처** [퀀트대디 블로그 링크](https://m.blog.naver.com/stochastic73/221068120736)"
   ]
  },
  {
   "cell_type": "markdown",
   "metadata": {},
   "source": [
    "### 1. 장외파생상품"
   ]
  },
  {
   "cell_type": "markdown",
   "metadata": {},
   "source": [
    "**FRA / IRS / FX Forward / CCS / CDS**"
   ]
  },
  {
   "cell_type": "markdown",
   "metadata": {},
   "source": [
    "### 2. FRA"
   ]
  },
  {
   "cell_type": "markdown",
   "metadata": {},
   "source": [
    "#### 2.1 Floating Rate 변동금리"
   ]
  },
  {
   "cell_type": "markdown",
   "metadata": {},
   "source": [
    "**준거금리 Reference Rate**라고도 하는데, 준거금리란 시장 상황에 따라 변동하는 금리에 대한 기준이 되는 금리이다.\n",
    "\n",
    "CD 금리, CP 금리, 코픽스 금리, LIBOR 금리 등이 준거금리이다."
   ]
  },
  {
   "cell_type": "markdown",
   "metadata": {},
   "source": [
    "#### 2.2 Forward Rate 선도금리"
   ]
  },
  {
   "cell_type": "markdown",
   "metadata": {},
   "source": [
    "시장이 생각하는 미래 금리에 대한 예상치\n",
    "\n",
    "현재로부터 일정기간 후의 시점에서 특정 기간까지 적용되는 금리에 대한 현재 시점의 기댓값\n",
    "\n",
    "표면적으로 존재하는 금리가 아닌 추정해야하는 금리이므로, **Implied Forward Rate 내재선도금리**라고도 부른다."
   ]
  },
  {
   "cell_type": "markdown",
   "metadata": {},
   "source": [
    "#### 2.3 Forward Rate Agreement 선도금리계약"
   ]
  },
  {
   "cell_type": "markdown",
   "metadata": {},
   "source": [
    "장외파생상품 시장에서 단기적인 금리 리스크를 헷지하기 위한 수단 중 하나이며, 보편화된 **플레인 바닐라** 상품이다.\n",
    "\n",
    "미래 특정 시점부터 일정 기간 동안의 금리를 현재 시점에 미리 확정하는 계약\n",
    "\n",
    "ex) **FRA 3x6**: 3개월 이후의 3개월 동안의 선도금리 거래"
   ]
  },
  {
   "cell_type": "markdown",
   "metadata": {},
   "source": [
    "##### 2.3.1 FRA 현금흐름"
   ]
  },
  {
   "cell_type": "markdown",
   "metadata": {},
   "source": [
    "FRA 프라이싱은 시장금리 커브가 변화함에 따라 FRA의 이론가격이 어떻게 변하는지를 계산하는 것"
   ]
  },
  {
   "cell_type": "markdown",
   "metadata": {},
   "source": [
    "##### 2.3.2 FRA 현금흐름 분해"
   ]
  },
  {
   "cell_type": "markdown",
   "metadata": {},
   "source": [
    "FRA는 대출과 예금으로 분해할 수 있다.\n",
    "\n",
    "FRA 매수자는 고정금리 대출과 변동금리 예금을 한 것으로 볼 수 있다.\n",
    "\n",
    "즉, 만기일에 대출금에 대한 이자를 고정금리(FRA Rate)로 지급하고 예금 이자를 변동금리(Floating Rate)로 받는다."
   ]
  },
  {
   "cell_type": "markdown",
   "metadata": {},
   "source": [
    "<img width=\"602\" alt=\"스크린샷 2021-02-11 오후 3 25 53\" src=\"https://user-images.githubusercontent.com/49624407/107607775-8996b800-6c7d-11eb-8399-9e27aec07821.png\">"
   ]
  },
  {
   "cell_type": "markdown",
   "metadata": {},
   "source": [
    "##### 2.3.3 FRA 매수 / 매도"
   ]
  },
  {
   "cell_type": "markdown",
   "metadata": {},
   "source": [
    "금리 관련 파생상품은 **매수가 금리 상승이다.**\n",
    "\n",
    "FRA 매수 = 금리 상승 예상 = 고정금리 지급( Pay Fixed ) = 변동금리 수취( Receive Floating )\n",
    "\n",
    "FRA 매도 = 금리 하락 예상 = 고정금리 수취( Receive Fixed ) = 변동금리 지급( Pay Floating )"
   ]
  },
  {
   "cell_type": "markdown",
   "metadata": {},
   "source": [
    "##### 2.3.4 단기 금리 리스크"
   ]
  },
  {
   "cell_type": "markdown",
   "metadata": {},
   "source": [
    "**FRA**는 단기 금리 리스크 헷지를 위한 대표적인 상품이다.\n",
    "\n",
    "장기 금리 리스크 헷지는 **IRS**를 사용한다."
   ]
  },
  {
   "cell_type": "markdown",
   "metadata": {},
   "source": [
    "### 3. IRS"
   ]
  },
  {
   "cell_type": "markdown",
   "metadata": {},
   "source": [
    "#### 3.1 Interest Rate Swap 이자율 스왑"
   ]
  },
  {
   "cell_type": "markdown",
   "metadata": {},
   "source": [
    "고정금리와 변동금리를 교환하는 파생상품"
   ]
  },
  {
   "cell_type": "markdown",
   "metadata": {},
   "source": [
    "#### 3.2 IRS의 현금흐름"
   ]
  },
  {
   "cell_type": "markdown",
   "metadata": {},
   "source": [
    "<img width=\"730\" alt=\"스크린샷 2021-02-11 오후 5 18 25\" src=\"https://user-images.githubusercontent.com/49624407/107614251-4d6b5380-6c8d-11eb-9bb6-af54e5238dc5.png\">"
   ]
  },
  {
   "cell_type": "markdown",
   "metadata": {},
   "source": [
    "거래일에 고정금리와 첫 구간의 변동금리가 결정된다. 이자구간 시작일보다 앞서서 변동금리가 결정되는 것이 특징이다.\n",
    "\n",
    "원금교환이 발생하지 않으며, 명목금액은 이자를 계산하기 위한 목적이다.\n",
    "\n",
    "프라이싱은 미래에 발생할 현금흐름을 각각의 시점에 맞는 제로금리를 사용해 현재가치로 환산해서 합을 구하는 과정이다."
   ]
  },
  {
   "cell_type": "markdown",
   "metadata": {},
   "source": [
    "#### 3.3 IRS의 현금흐름 분해"
   ]
  },
  {
   "cell_type": "markdown",
   "metadata": {},
   "source": [
    "이자율스왑은 고정금리 채권과 변동금리 채권으로 분해할 수 있다.\n",
    "\n",
    "이자율스왑 매수 포지션은 고정금리 채권 매도와 변동금리 채권 매수로 분해할 수 있다."
   ]
  },
  {
   "cell_type": "markdown",
   "metadata": {},
   "source": [
    "<img width=\"663\" alt=\"스크린샷 2021-02-11 오후 5 35 43\" src=\"https://user-images.githubusercontent.com/49624407/107615482-9b815680-6c8f-11eb-8563-f34d8c02f4af.png\">"
   ]
  },
  {
   "cell_type": "markdown",
   "metadata": {},
   "source": [
    "만기가 다른 서로 다른 연속적인 FRA를 시리즈로 묶으면 하나의 IRS가 된다."
   ]
  },
  {
   "cell_type": "markdown",
   "metadata": {},
   "source": [
    "#### 3.4 IRS의 매수 / 매도"
   ]
  },
  {
   "cell_type": "markdown",
   "metadata": {},
   "source": [
    "IRS 매수 = 금리 상승 예상 = 고정금리 지급 = 변동금리 수취\n",
    "\n",
    "IRS 매도 = 금리 하락 예상 = 고정금리 수취 = 변동금리 지급"
   ]
  },
  {
   "cell_type": "markdown",
   "metadata": {},
   "source": [
    "### 4. FX Forward"
   ]
  },
  {
   "cell_type": "markdown",
   "metadata": {},
   "source": [
    "두 가지 이상의 통화를 다룬다면 각 통화에 대한 금리커브가 필요하다."
   ]
  },
  {
   "cell_type": "markdown",
   "metadata": {},
   "source": [
    "#### 4.1 FX Forward 선도환"
   ]
  },
  {
   "cell_type": "markdown",
   "metadata": {},
   "source": [
    "미래에 발생할 외환거래에 대해 현재 시점에 미리 환율을 정해놓는 계약\n",
    "\n",
    "외환 리스크( FX Risk )를 헷지하기 위한 수단"
   ]
  },
  {
   "cell_type": "markdown",
   "metadata": {},
   "source": [
    "#### 4.2 FX Forward의 현금흐름"
   ]
  },
  {
   "cell_type": "markdown",
   "metadata": {},
   "source": [
    "거래일에 선도환율이 결정되고, 만기일에 선도환율을 기반으로 각 통화의 금액이 교환된다.\n",
    "\n",
    "선도환율을 결정하는데 사용되는 원화 금리는 **통화 스왑 금리( CCS rate )**이며, 달러 금리는 **미국 달러 이자율스왑 금리( USD IRS rate)**이다."
   ]
  },
  {
   "cell_type": "markdown",
   "metadata": {},
   "source": [
    "#### 4.3 FX Forward 현금흐름 분해"
   ]
  },
  {
   "cell_type": "markdown",
   "metadata": {},
   "source": [
    "FX Forward 매수 포지션은 달러 예금, 원화 대출, 달러원 현물거래로 분해할 수 있다.\n",
    "\n",
    "즉, FX Forward 포지션은 환율, 원화금리, 달러금리 세가지 시장변수에 영향을 받는다."
   ]
  },
  {
   "cell_type": "markdown",
   "metadata": {},
   "source": [
    "<img width=\"613\" alt=\"스크린샷 2021-02-11 오후 6 42 26\" src=\"https://user-images.githubusercontent.com/49624407/107620998-ef446d80-6c98-11eb-8066-e45aaaf297fe.png\">"
   ]
  },
  {
   "cell_type": "markdown",
   "metadata": {},
   "source": [
    "#### 4.4 FX Forward 매수 / 매도"
   ]
  },
  {
   "cell_type": "markdown",
   "metadata": {},
   "source": [
    "선도환 상품은 환율 뿐만아니라 **원화 금리**와 **달러 금리**에도 영향을 받는다.\n",
    "\n",
    "**선도환 매수 = USDKRW 매수 = 달러원 환율 상승에 대한 뷰**\n",
    "\n",
    "선도환 매수 = 환율 상승 = 원화 금리 상승 = 달러 금리 하락\n",
    "\n",
    "선도환 매도 = 환율 하락 = 원화 금리 하락 = 달러 금리 상승"
   ]
  },
  {
   "cell_type": "markdown",
   "metadata": {},
   "source": [
    "### 5. CCS"
   ]
  },
  {
   "cell_type": "markdown",
   "metadata": {},
   "source": [
    "#### 5.1 Cross Currency Swap 통화스왑"
   ]
  },
  {
   "cell_type": "markdown",
   "metadata": {},
   "source": [
    "일정 기간 동안 이종 통화에 대한 이자를 교환하는 장외파생계약\n",
    "\n",
    "달러원 통화스왑의 경우, 거래상대방 A는 원화 자금을 사용한 대가로 원화 이자를 지급하고 B는 달러 자금을 사용한 대가로 달러 이자를 지급한다.\n",
    "\n",
    "이때, 원화는 고정금리, 달러는 변동금리가 사용되는데\n",
    "\n",
    "통화스왑은 변동금리, 고정금리를 교환하는것 뿐만아니라 통화를 교환하는 것까지 포함한다.\n",
    "\n",
    "거래시점과 만기시점에 두 통화의 원금이 교환된다."
   ]
  },
  {
   "cell_type": "markdown",
   "metadata": {},
   "source": [
    "#### 5.2 CCS 현금흐름"
   ]
  },
  {
   "cell_type": "markdown",
   "metadata": {},
   "source": [
    "<img width=\"691\" alt=\"스크린샷 2021-02-11 오후 8 12 00\" src=\"https://user-images.githubusercontent.com/49624407/107629442-7861a180-6ca5-11eb-800d-d8138f4c19b9.png\">"
   ]
  },
  {
   "cell_type": "markdown",
   "metadata": {},
   "source": [
    "거래일에는 첫 이자구간에 대한 달러 변동금리와 원금 교환에 대한 환율이 정해진다.\n",
    "\n",
    "이종통화를 다루는 상품이기에 원금교환이 발생한다.\n",
    "\n",
    "원화 현금흐름은 **통화스왑 커브**, 달러 현금흐름은 **달러 이자율스왑 커브**로 각각 할인하여 계산한다."
   ]
  },
  {
   "cell_type": "markdown",
   "metadata": {},
   "source": [
    "#### 5.3 CCS 현금흐름 분해"
   ]
  },
  {
   "cell_type": "markdown",
   "metadata": {},
   "source": [
    "<img width=\"642\" alt=\"스크린샷 2021-02-11 오후 8 19 45\" src=\"https://user-images.githubusercontent.com/49624407/107630168-83690180-6ca6-11eb-999c-08e9feabef20.png\">"
   ]
  },
  {
   "cell_type": "markdown",
   "metadata": {},
   "source": [
    "#### 5.4 CCS 매수 / 매도"
   ]
  },
  {
   "cell_type": "markdown",
   "metadata": {},
   "source": [
    "**원화 고정금리의 방향을 기준으로 결정**\n",
    "\n",
    "통화스왑 매수( CSS Pay or Bid ) : 원화 고정금리 지급, 달러 변동금리 수취 = 환율 상승, 원화 금리 상승, 달러 금리 하락 예상\n",
    "\n",
    "통화스왑 매도( CSS Receive or ASK ) : 원화 고정금리 수취, 달러 변동금리 지급 = 환율 하락, 원화 금리 하락, 달러 금리 상승 예상"
   ]
  },
  {
   "cell_type": "markdown",
   "metadata": {},
   "source": [
    "### 6. CDS"
   ]
  },
  {
   "cell_type": "markdown",
   "metadata": {},
   "source": [
    "금리와 환율 리스크는 **시장 리스크( Market Risk )**로 분류된다.\n",
    "\n",
    "**신용 리스크( Credit Risk )**는 기업이나 특정 준거대상이 부도나 채무 불이행 상황에 빠져서 원리금을 회수할 수 없는 상황을 말한다.\n",
    "\n",
    "이런 신용 리스크를 관리하는 파생상품이 CDS이다."
   ]
  },
  {
   "cell_type": "markdown",
   "metadata": {},
   "source": [
    "#### 6.1 Credit Default Swap 신용부도스왑"
   ]
  },
  {
   "cell_type": "markdown",
   "metadata": {},
   "source": [
    "CDS 상품을 이용해서 시장 리스크는 배제하고 오직 신용 리스크만 관리할 수 있다.\n",
    "\n",
    "CDS 매수 포지션은 보험과 같이 일정 프리미엄을 지불하고 미래에 발생하게 될 신용사건(부도, 채무불이행)으로 부터 보호를 받는다."
   ]
  },
  {
   "cell_type": "markdown",
   "metadata": {},
   "source": [
    "#### 6.2 CDS 현금흐름"
   ]
  },
  {
   "cell_type": "markdown",
   "metadata": {},
   "source": [
    "<img width=\"642\" alt=\"스크린샷 2021-02-11 오후 8 58 15\" src=\"https://user-images.githubusercontent.com/49624407/107633791-ed37da00-6cab-11eb-918e-d92205924d2c.png\">"
   ]
  },
  {
   "cell_type": "markdown",
   "metadata": {},
   "source": [
    "CDS 매도 포지션(보장 매도를 한 대가로 프리미엄을 수취하는 포지션)\n",
    "\n",
    "이자 지급 주기마다 정해진 CDS 프리미엄을 수취한다.\n",
    "\n",
    "계약기간 동안 신용사건이 발생하지 않으면 프리미엄을 받고 끝나고\n",
    "\n",
    "신용사건이 발생하게 되면 매도자는 매수자에게 약정한 준거자산에 대한 원금을 지급하고 준거자산을 양도받는다.\n",
    "\n",
    "준거자산은 주로 준거기업의 회사채를 말한다."
   ]
  },
  {
   "cell_type": "markdown",
   "metadata": {},
   "source": [
    "#### 6.3 CDS 현금흐름 분해"
   ]
  },
  {
   "cell_type": "markdown",
   "metadata": {},
   "source": [
    "CDS 상품은 회사채로 부터 파생된 상품이기에 회사채의 현금흐름을 분석한다."
   ]
  },
  {
   "cell_type": "markdown",
   "metadata": {},
   "source": [
    "**(1) 회사채 현금흐름**"
   ]
  },
  {
   "cell_type": "markdown",
   "metadata": {},
   "source": [
    "<img width=\"635\" alt=\"스크린샷 2021-02-11 오후 9 15 13\" src=\"https://user-images.githubusercontent.com/49624407/107635320-46087200-6cae-11eb-8f4e-884d2f0f7781.png\">"
   ]
  },
  {
   "cell_type": "markdown",
   "metadata": {},
   "source": [
    "**(2) 이자파트, 원금파트, 부도파트로 분해**"
   ]
  },
  {
   "cell_type": "markdown",
   "metadata": {},
   "source": [
    " <img width=\"635\" alt=\"스크린샷 2021-02-11 오후 9 16 30\" src=\"https://user-images.githubusercontent.com/49624407/107635411-73edb680-6cae-11eb-836b-8b8f55d7ca4b.png\">"
   ]
  },
  {
   "cell_type": "markdown",
   "metadata": {},
   "source": [
    "**(3) 시장 리스크와 신용 리스크로 분해**"
   ]
  },
  {
   "cell_type": "markdown",
   "metadata": {},
   "source": [
    "* 회사채 금리 = 스왑 금리 + **Asset Swap Spread**\n",
    "\n",
    "**(3.1) Asset Swap Spread를 따로 떼어내어 보관**"
   ]
  },
  {
   "cell_type": "markdown",
   "metadata": {},
   "source": [
    "<img width=\"632\" alt=\"스크린샷 2021-02-11 오후 9 22 08\" src=\"https://user-images.githubusercontent.com/49624407/107635893-3ccbd500-6caf-11eb-8de8-7eba45a952f3.png\">"
   ]
  },
  {
   "cell_type": "markdown",
   "metadata": {},
   "source": [
    "**(3.2) 총 합을 0으로 만드는 변동금리 이자 지급 및 수취를 각각 이자파트, 원금파트에 붙임**\n",
    "\n",
    "이렇게하면 이자파트는 **이자율 스왑**, 원금파트는 **변동금리 채권**으로 바뀐다."
   ]
  },
  {
   "cell_type": "markdown",
   "metadata": {},
   "source": [
    "<img width=\"622\" alt=\"스크린샷 2021-02-11 오후 9 28 39\" src=\"https://user-images.githubusercontent.com/49624407/107636541-240fef00-6cb0-11eb-8dc8-6da03de9c45f.png\">"
   ]
  },
  {
   "cell_type": "markdown",
   "metadata": {},
   "source": [
    "**(3.3) 보관해두었던 Asset Swap Spread를 부도 파트에 추가**\n",
    "\n",
    "Asset Swap Spread는 회사채 이자에서 시장금리인 스왑금리를 뺀 것이다.\n",
    "\n",
    "즉, Asset Swap Spread는 회사채 이자에서 시장 리스크를 제외하고 신용 리스크만을 추출한 것이다.\n",
    "\n",
    "**< 부도 파트에 Asset Swap Spread를 추가한 현금흐름이 CDS 현금흐름이다. >**"
   ]
  },
  {
   "cell_type": "markdown",
   "metadata": {},
   "source": [
    "<img width=\"674\" alt=\"스크린샷 2021-02-11 오후 9 31 33\" src=\"https://user-images.githubusercontent.com/49624407/107636812-89fc7680-6cb0-11eb-867a-57109ec0df12.png\">"
   ]
  },
  {
   "cell_type": "markdown",
   "metadata": {},
   "source": [
    "CDS는 회사채, 변동금리 채권, 이자율 스왑으로 분해할 수 있다.\n",
    "\n",
    "* CDS 매수 = 회사채 매수 + IRS Receive + FRN 매도\n",
    "* CDS 매도 = 회사채 매도 + IRS Pay + FRN 매수"
   ]
  },
  {
   "cell_type": "markdown",
   "metadata": {},
   "source": [
    "#### 6.4 CDS 매수 / 매도"
   ]
  },
  {
   "cell_type": "markdown",
   "metadata": {},
   "source": [
    "**CDS 매수 포지션**\n",
    "\n",
    "보장 매수( Protection Buy ), CDS 프리미엄을 지급하고 보장을 받는 포지션\n",
    "\n",
    "신용 리스크가 상승하는 걸 예상하는 포지션\n",
    "\n",
    "CDS 프리미엄이 상승하면 평가상 이익"
   ]
  },
  {
   "cell_type": "markdown",
   "metadata": {},
   "source": [
    "**CDS 매도 포지션**\n",
    "\n",
    "보장 매도( Protection Sell ), CDS 프리미엄을 수취하고 보장을 해주는 포지션\n",
    "\n",
    "신용 리스크가 낮아질 것을 예상하는 포지션\n",
    "\n",
    "CDS 프리미엄이 하락하면 평가상 이익"
   ]
  }
 ],
 "metadata": {
  "kernelspec": {
   "display_name": "Python 3",
   "language": "python",
   "name": "python3"
  },
  "language_info": {
   "codemirror_mode": {
    "name": "ipython",
    "version": 3
   },
   "file_extension": ".py",
   "mimetype": "text/x-python",
   "name": "python",
   "nbconvert_exporter": "python",
   "pygments_lexer": "ipython3",
   "version": "3.7.6"
  },
  "toc": {
   "base_numbering": 1,
   "nav_menu": {},
   "number_sections": false,
   "sideBar": true,
   "skip_h1_title": false,
   "title_cell": "Table of Contents",
   "title_sidebar": "Contents",
   "toc_cell": false,
   "toc_position": {
    "height": "calc(100% - 180px)",
    "left": "10px",
    "top": "150px",
    "width": "183px"
   },
   "toc_section_display": true,
   "toc_window_display": true
  }
 },
 "nbformat": 4,
 "nbformat_minor": 4
}
