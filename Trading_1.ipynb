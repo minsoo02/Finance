{
 "cells": [
  {
   "cell_type": "markdown",
   "metadata": {},
   "source": [
    "**출처: 퀀트대디 블로그를 보고 정리한 글** [퀀트대디 블로그 링크](https://m.blog.naver.com/stochastic73/221068120736)"
   ]
  },
  {
   "cell_type": "markdown",
   "metadata": {},
   "source": [
    "### 1. FICC"
   ]
  },
  {
   "cell_type": "markdown",
   "metadata": {},
   "source": [
    "**FICC (Fixed Income, Currency, Commodity)**\n",
    "\n",
    "Equity(주식)을 제외한 모든 자산에 대해 세일즈, 트레이딩  \n",
    "채권, 채권선물, 스왑, 외환, 원자재 등의 상품을 다룸"
   ]
  },
  {
   "cell_type": "markdown",
   "metadata": {},
   "source": [
    "**FICC Trading**\n",
    "\n",
    "* **Prop Trading**  \n",
    "회사의 고유자산을 이용해 금융시장에서 수익을 만들어냄\n",
    "\n",
    "\n",
    "* **Flow Trading**  \n",
    "고객들로 부터 자금을 조달하여 고객에게는 금리 또는 보상을 제공하고, 고객자금으로 수익을 만들어냄 Ex) RP운용"
   ]
  },
  {
   "cell_type": "markdown",
   "metadata": {},
   "source": [
    "### 2. Trading Business Model"
   ]
  },
  {
   "cell_type": "markdown",
   "metadata": {},
   "source": [
    "**자기자본 거래 (Proprietary Trading)**\n",
    "\n",
    "Prop Trading은 데스크에서 다룰 수 있는 금융자산(주식, 채권, 외환, 원자재, 변동성)에 대해 BLASH(Buy Low And Sell High)를 통해 수익  \n",
    "자사의 고유자본이 자금의 원천"
   ]
  },
  {
   "cell_type": "markdown",
   "metadata": {},
   "source": [
    "**시장조성 (Market Making)**\n",
    "\n",
    "시장에서 매매가 원활하게 성사될 수 있도록 시장을 만드는 역할  \n",
    "Bid-Ask Spread, 매도 호가와 매수 호가 차이만큼을 수익으로 가지고 간다."
   ]
  },
  {
   "cell_type": "markdown",
   "metadata": {},
   "source": [
    "**대고객 거래 (Customized Margin Trading)**\n",
    "\n",
    "Flow Trading, 안정적이고 지속적인 수익 창출  \n",
    "고객에게 상품을 팔면 고객이 가지고 있던 리스크를 넘겨받고, 가지고 있던 리스크를 넘겨주는 리스크 교환이 일어난다. 이때, 원래 없던 포지션의 노출이 발생하고  이러한 포지션을 장내/장외 시장에서 헤지하는 방식으로 수익을 내는데 이를 **헤지 트레이딩 (Hedge Trading)**이라 한다."
   ]
  },
  {
   "cell_type": "markdown",
   "metadata": {},
   "source": [
    "### 3. Trading Timing"
   ]
  },
  {
   "cell_type": "markdown",
   "metadata": {},
   "source": [
    "**스캘퍼 (Scalper)**\n",
    "\n",
    "분이나 초 단위로 빠르게 손절과 익절을 실현하여 승률을 높인다. 스크에 노출되는 시간이 짧고 포지션은 오버나잇으로 가져가지 않음  \n",
    "틱차트나 분차트를 이용한 빈번한 거래로 거래비용이 많이 들어감"
   ]
  },
  {
   "cell_type": "markdown",
   "metadata": {},
   "source": [
    "**데이 트레이더 (Day Trader)**\n",
    "\n",
    "오버나잇을 가져가지 않고 장중매매를 하지만 스캘퍼보다는 긴 호흡 트레이딩  \n",
    "일간 차트나 1시간 차트를 이용하며 장중 이벤트(뉴스, 경제지표 발표 등)를 신경 씀"
   ]
  },
  {
   "cell_type": "markdown",
   "metadata": {},
   "source": [
    "**오버나잇 트레이더 (Overnight Trader)**\n",
    "\n",
    "포지션을 오버나잇해서 익일에 포지션 청산한다. 오버나잇으로 인한 Gap Up과 Gap Down에 노출되는 리스크가 있다."
   ]
  },
  {
   "cell_type": "markdown",
   "metadata": {},
   "source": [
    "**스윙 트레이더 (Swingn Trader)**\n",
    "\n",
    "일간 차트나 주간 차트를 사용하여 포지션을 짧게는 일주일에서 길게는 한 달 정도 유지한다. 추세를 이용하는 트레이딩을 하기 때문에 손절 폭이 크다."
   ]
  },
  {
   "cell_type": "markdown",
   "metadata": {},
   "source": [
    "**포지션 트레이더 (Position Trader)**\n",
    "\n",
    "주간 차트나 월간 차트를 이용하며 포지션을 최소 한 달 이상에서 최대 1년 정도까지 유지한다. 장기적인 포지션을 정하는 만큼  \n",
    "국가들에 대한 경제적 펀더멘털과 중앙은행의 통화정책 방향 분석에 초점을 맞춰서 의사결정을 한다."
   ]
  },
  {
   "cell_type": "markdown",
   "metadata": {},
   "source": [
    "### 4. Trading Risk Management"
   ]
  },
  {
   "cell_type": "markdown",
   "metadata": {},
   "source": [
    "**Risk**\n",
    "\n",
    "금융에서 리스크란 **변동성의 크기**  \n",
    "리스크가 크다는 것은 변동성이 커서 큰 수익이나 큰 손실을 볼 수 있다는 것"
   ]
  },
  {
   "cell_type": "markdown",
   "metadata": {},
   "source": [
    "**헷징 (Hedging)**\n",
    "\n",
    "보유하고 있는 포지션의 반대되는 포지션을 매입해서 리스크에 영향을 받지 않도록 하는 것. 리스크에 대한 노출이 없기에 수익도 손실도 발생하지 않는다."
   ]
  },
  {
   "cell_type": "markdown",
   "metadata": {},
   "source": [
    "**스펙 (Speculation)**\n",
    "\n",
    "자신의 포지션을 시장에 노출시켜 수익을 얻음. 변동성을 예측하여 자산가격의 차이, 즉 차익을 실현시키고자 한다."
   ]
  },
  {
   "cell_type": "markdown",
   "metadata": {},
   "source": [
    "**시세차익 (Arbitrage)**\n",
    "\n",
    "상품이 서로 다른 두 시장에서 다른 가격으로 매겨질 때, 싼 곳에서 사서 비싼 곳에서 팔아 차이로 수익을 실현하고자 한다."
   ]
  },
  {
   "cell_type": "markdown",
   "metadata": {},
   "source": [
    "### 5. Analysis"
   ]
  },
  {
   "cell_type": "markdown",
   "metadata": {},
   "source": [
    "**계량적 분석 (Quantitative Analysis)**\n",
    "\n"
   ]
  },
  {
   "cell_type": "markdown",
   "metadata": {},
   "source": [
    "### 6. Greeks"
   ]
  },
  {
   "cell_type": "markdown",
   "metadata": {},
   "source": [
    "**Greeks**\n",
    "\n",
    "포지션의 민감도. 시장가격이 한 단위 변할 때 현재 트레이더 북의 포지션이 어느 정도 수익 또는 손실을 볼 수 있는 가"
   ]
  },
  {
   "cell_type": "markdown",
   "metadata": {},
   "source": [
    "#### 6.1 델타 ( Delta, $\\Delta$ ): 방향성에 대한 지표"
   ]
  },
  {
   "cell_type": "markdown",
   "metadata": {},
   "source": [
    "$\\Delta = \\frac{\\partial V} {\\partial S}$\n",
    "\n",
    "$S$: 시장에 존재하는 금융자산 ( 주식, 이자율, 외환, 원유, 금 등 )의 가격 ( Price )  \n",
    "$V$: 현재 트레이더들의 포트폴리오 또는 포지션\n",
    "\n",
    "**Delta**: 시장의 가격이 변할 때, 포지션은 얼마나 움직일 것인가에 대한 지표. 포지션에 대한 **가격의 민감도**\n",
    "\n",
    "cf) 채권에서는 **듀레이션**이라고 부른다."
   ]
  },
  {
   "cell_type": "markdown",
   "metadata": {},
   "source": [
    "#### 6.2 감마 ( Gamma, $\\Gamma$ ): 볼록성 또는 실현 변동성에 대한 지표"
   ]
  },
  {
   "cell_type": "markdown",
   "metadata": {},
   "source": [
    "$\\Gamma = \\frac{\\partial^2 V} {\\partial S^2}$\n",
    "\n",
    "미분이 두 번 되어있는 것 처럼 가격이 변할 때 포지션의 변화 속도가 얼마나 변하는 가. (물리에서의 가속도 느낌)\n",
    "\n",
    "**실현 변동성 (Realized Volatility)**: 시간이 지남에 따라 자산의 가격이 실제로 움직이면서 형성하는 변동성의 정도\n",
    "\n",
    "변동성 매매를 통해서 수익을 보고자하는 옵션 데스트에서 보는 지표\n",
    "\n",
    "**Long Gamma Position**: 변동성이 커짐에 따라 수익을 보는 포지션  \n",
    "**Short Gamma Position**: 변동성이 커짐에 따라 손실을 보는 포지션\n",
    "\n",
    "cf) 채권에서는 **컨벡시티**라고 부른다."
   ]
  },
  {
   "cell_type": "markdown",
   "metadata": {},
   "source": [
    "#### 6.3 세타 ( Theta, $\\Theta$ ): 시간 가치에 대한 지표"
   ]
  },
  {
   "cell_type": "markdown",
   "metadata": {},
   "source": [
    "$\\Theta = \\frac{\\partial V} {\\partial t}$\n",
    "\n",
    "$t$: 시간\n",
    "\n",
    "시간이 흐름에 따라 자신의 포지션이 얼만큼 변화하는지 보여주는 지표. **시간에 대한 포지션의 민감도**\n",
    "\n",
    "**Long Theta Position**: 시간이 지남에 따라 수익을 보는 포지션  \n",
    "**Short Theta Position**: 시간이 지남에 따라 손실을 보는 포지션"
   ]
  },
  {
   "cell_type": "markdown",
   "metadata": {},
   "source": [
    "#### 6.4 베가 ( Vega, $V$ ): 시장의 내재 변동성에 대한 지표"
   ]
  },
  {
   "cell_type": "markdown",
   "metadata": {},
   "source": [
    "$ Vega = \\frac{\\partial V} {\\partial \\sigma}$\n",
    "\n",
    "**내재 변동성 ( Implied Volatility )**: 현재 시장이 느끼고 있는 미래 변동성의 예측치. 현재부터 미래 시점까지 일정 기간에 대해 시장참여자들이 형성하고 있는 현재의 시장가가 어느 정도의 변동성을 투영하고 있는지\n",
    "\n",
    "**Long Vega Position**: 내재 변동성이 상승하여 포지션에 수익이 발생  \n",
    "**Short Vega Position**: 내재 변동성이 상승하여 포지션에 손실이 발생"
   ]
  },
  {
   "cell_type": "markdown",
   "metadata": {},
   "source": [
    "#### 6.5 로 ( Rho, $\\rho$ ): 이자율에 대한 지표"
   ]
  },
  {
   "cell_type": "markdown",
   "metadata": {},
   "source": [
    "$\\rho = \\frac{\\partial V} {\\partial r}$\n",
    "\n",
    "이자율 변화에 대한 포지션의 민감도를 나타내는 지표"
   ]
  },
  {
   "cell_type": "markdown",
   "metadata": {},
   "source": [
    "### 7. 방향성 매매 & 변동성 매매"
   ]
  },
  {
   "cell_type": "markdown",
   "metadata": {},
   "source": [
    "**Naked Position**: 시장의 움직임에 대한 헤지가 안되어있고, 오직 시장변수의 상승과 하락에 대한 트레이더의 판단으로 포지션을 구축한 경우\n",
    "\n",
    "**Naked Position**을 구축하기 위해 고려해야 할 변수는 **가격( Price )**과 **변동성( Volatility )** 이다."
   ]
  },
  {
   "cell_type": "markdown",
   "metadata": {},
   "source": [
    "#### 7.1 방향성 매매( Directional Investing ): 가격의 상승과 하락에 배팅"
   ]
  },
  {
   "cell_type": "markdown",
   "metadata": {},
   "source": [
    "가격의 상승과 하락의 흐름을 예측해서 매수 또는 매도 포지션을 구축. **Delta** 트레이딩"
   ]
  },
  {
   "cell_type": "markdown",
   "metadata": {},
   "source": [
    "#### 7.2 변동성 매매( Volatility Investing ): 변동성의 상승과 하락에 배팅"
   ]
  },
  {
   "cell_type": "markdown",
   "metadata": {},
   "source": [
    "특정 주식 또는 지수의 변동성을 예측하여 포지션을 구축. **Gamma, Vega** 트레이딩"
   ]
  },
  {
   "cell_type": "markdown",
   "metadata": {},
   "source": [
    "<img width=\"689\" alt=\"스크린샷 2020-12-16 오후 8 43 33\" src=\"https://user-images.githubusercontent.com/49624407/102344604-7cdc4780-3fdf-11eb-857e-02a26b4ac950.png\">"
   ]
  },
  {
   "cell_type": "markdown",
   "metadata": {},
   "source": [
    "### 8. 구조화 상품 & ELS 투자"
   ]
  },
  {
   "cell_type": "markdown",
   "metadata": {},
   "source": [
    "#### 8.1 ELS( Equity Linked Securities )"
   ]
  },
  {
   "cell_type": "markdown",
   "metadata": {},
   "source": [
    "**1. 2 Stock**\n",
    "\n",
    "기초자산이 두 개이다. 보통 KOSPI200, HSCEI, EUROSTOXX50, S&P500, NIKKEI225의 5가지 주가지수 중 두 가지를 선택해서 ELS를 발행한다."
   ]
  },
  {
   "cell_type": "markdown",
   "metadata": {},
   "source": [
    "**2. Autocallable**\n",
    "\n",
    "조기상환 성격을 가지고 있다. 특정 조건이 만족되면 ELS는 조기상환되면서 고객에게 이자를 지급하고 계약이 종료된다."
   ]
  },
  {
   "cell_type": "markdown",
   "metadata": {},
   "source": [
    "**3. Step-Down**\n",
    "\n",
    "조기상환이 안될 수록 다음기회에 조기상환이 좀 더 잘되게 조건을 완화해준다."
   ]
  },
  {
   "cell_type": "markdown",
   "metadata": {},
   "source": [
    "**4. Knock-In Barrier**\n",
    "\n",
    "지수가 일정 레벨보다 더 빠지면 원금 손실이 발생한다."
   ]
  },
  {
   "cell_type": "markdown",
   "metadata": {},
   "source": [
    "### 9. 구조화 트레이딩"
   ]
  },
  {
   "cell_type": "markdown",
   "metadata": {},
   "source": [
    "구조화 트레이딩의 목적은 **매가(투자자에게 판매한 구조화 상품의 가격)**가 움직이는 만큼 **원가(복제 포트폴리오의 가격)**를 움직여서 발행 시 책정했던 마진 수준을 만기까지 지켜내는 것\n",
    "\n",
    "**매가**가 시장의 요인에 의해 변하기때문에 **원가**를 조정할 필요가 있는데 이를 **동적 헤징( Dynamic Hedging )**이라고 한다."
   ]
  },
  {
   "cell_type": "markdown",
   "metadata": {},
   "source": [
    "### 10. 브로커"
   ]
  },
  {
   "cell_type": "markdown",
   "metadata": {},
   "source": [
    "장내시장( Exchange )에는 거래소가 존재해서 거래상대방 역할을 한다.  \n",
    "\n",
    "장외시장 OTC( Over-the-Counter)에는 거래소가 존재하지 않아서 브로커가 그 역할을 대신한다. 매수자, 매도자의 주문을 받아서 시장에 뿌리고 거래를 성사시킴  \n",
    "중개업무를 전문적으로 하는 Brokerage House가 존재하며, 채권의 경우에는 FICC영업팀에서 브로커리지 업무를 하는게 대부분이다. 딜커(Dealer + Broker)"
   ]
  }
 ],
 "metadata": {
  "kernelspec": {
   "display_name": "Python 3",
   "language": "python",
   "name": "python3"
  },
  "language_info": {
   "codemirror_mode": {
    "name": "ipython",
    "version": 3
   },
   "file_extension": ".py",
   "mimetype": "text/x-python",
   "name": "python",
   "nbconvert_exporter": "python",
   "pygments_lexer": "ipython3",
   "version": "3.7.6"
  },
  "toc": {
   "base_numbering": 1,
   "nav_menu": {},
   "number_sections": false,
   "sideBar": true,
   "skip_h1_title": false,
   "title_cell": "Table of Contents",
   "title_sidebar": "Contents",
   "toc_cell": false,
   "toc_position": {
    "height": "calc(100% - 180px)",
    "left": "10px",
    "top": "150px",
    "width": "166px"
   },
   "toc_section_display": true,
   "toc_window_display": true
  }
 },
 "nbformat": 4,
 "nbformat_minor": 4
}
