{
 "cells": [
  {
   "cell_type": "markdown",
   "metadata": {},
   "source": [
    "**내용 및 이미지 출처**: [머니안의 경제이야기](https://m.blog.naver.com/moneyian/110134758748)\n",
    "\n",
    "**머니안의 경제이야기 블로그를 보고 정리하며 공부한 내용입니다.**"
   ]
  },
  {
   "cell_type": "markdown",
   "metadata": {},
   "source": [
    "#### 1. 파생상품 기본 개념 및 기초자산"
   ]
  },
  {
   "cell_type": "markdown",
   "metadata": {},
   "source": [
    "**파생상품**: 기초자산의 가치 변동으로부터 영향을 받아서 그 가치가 결정되는 상품 또는 계약"
   ]
  },
  {
   "cell_type": "markdown",
   "metadata": {},
   "source": [
    "**기초자산**: 파생상품의 가격을 결정하는데 기초가 되는 자산  \n",
    "\n",
    "* **주식**  \n",
    "    주식의 가격 또는 주가지수  \n",
    "    \n",
    "    \n",
    "* **금리**  \n",
    "    채권이 금리 변동에 따라서 가격이 변동한다.  \n",
    "    즉, 금리 파생상품은 채권의 가격변동에 따라서 그 가치가 결정되는 파생상품 \n",
    "    \n",
    "    \n",
    "* **통화**  \n",
    "    환율의 변동에 따라  \n",
    "    \n",
    "    \n",
    "* **상품**   \n",
    "    금이나 돼지고기 같은 상품  \n",
    "    \n",
    "    \n",
    "* **기타**  \n",
    "    파생상품도 또 다른 파생상품의 기초자산이 될 수 있다. 신용도 기초자산이 될 수 있음."
   ]
  },
  {
   "cell_type": "markdown",
   "metadata": {},
   "source": [
    "#### 2. 장내파생상품 vs 장외파생상품, 결제안정화제도"
   ]
  },
  {
   "cell_type": "markdown",
   "metadata": {},
   "source": [
    "**결제안정화제도**: 청산소가 존재하며, 청산소에서는 결제 안정화 제도 3가지 시행\n",
    "\n",
    "* **반대매매 제도**  \n",
    "    파생상품을 그 파생상품의 최종거래일(=수익이 결정되는 날) 이전에 팔아 손실을 줄일 수 있는 제도  \n",
    "    큰 손실이 날 것을 예상한 투자자가 포기하고 도망치는 경우를 예방\n",
    "\n",
    "\n",
    "* **증거금 제도**  \n",
    "    파생상품을 거래하기 전에 미리 일정 금액을 거래소에 맡겨야 파생상품 매매가 가능  \n",
    "    이 증거금으로 파생상품 매매에 대한 결제를 진행\n",
    "\n",
    "\n",
    "* **일일정산 제도**  \n",
    "    최종거래일까지 기다릴 경우 남은 증거금만으로 파생상품 매매 결제를 진행하지 못하는 경우가 발생  \n",
    "    따라서, 매일 매일 변하는 파생상품 가격에 대해 정산을 해서 결제를 하는 제도  \n",
    "    증거금을 확인해서 증거금이 일정 수준 이하로 내려 갈 경우 증거금을 다시 채워야함"
   ]
  },
  {
   "cell_type": "markdown",
   "metadata": {},
   "source": [
    "#### 3. 장내파생상품"
   ]
  },
  {
   "cell_type": "markdown",
   "metadata": {},
   "source": [
    "**한국거래소에서 거래되는 파생상품의 종류**  \n",
    "\n",
    "|기초자산|상장 파생상품|\n",
    "|:-----|:-----|\n",
    "|주식| 개별주식 선물 & 옵션 <br/> KOSPI200지수 선물 & 옵션 <br/> STAR지수 선물|\n",
    "|금리| 3년/5년/10년 국채 선물|\n",
    "|통화| 달러 선물 & 옵션 <br/> 엔 선물 <br/> 유로 선물|\n",
    "|상품| 금 선물 <br/> 미니금 선물 <br/> 돈육 선물|\n",
    "\n",
    "* STAR지수: 코스닥시장에서 주요 기업들의 주식만 모은 주가 지수\n",
    "* 미니금: 금 선물의 거래 단위를 10분의 1로 줄여놓은 것"
   ]
  },
  {
   "cell_type": "markdown",
   "metadata": {},
   "source": [
    "* 장내파생상품 : 선물 / 옵션\n",
    "* 장외파생상품 : 선도 / 옵션 / 스왑\n",
    "\n",
    "\n",
    "* 장내파생상품은 거래를 위해 필요한 요소들이 정해져 있다.\n",
    "\n",
    "\n",
    "* 인수도결제: 실제 상품이 오고 가는 것. 금 선물은 실제 금과 돈을 맞바꾼다.\n",
    "* 현금결제: 실제 상품은 오고 가지 않고, 가격 변동의 차액에 대해서 돈만 오고간다."
   ]
  },
  {
   "cell_type": "markdown",
   "metadata": {},
   "source": [
    "#### 4. 선물의 기본 개념과 손익구조"
   ]
  },
  {
   "cell_type": "markdown",
   "metadata": {},
   "source": [
    "**선물**: 현재시점에서 거래 당사자 간의 매매계약이 발생하고 미래시점에서 실물인수도나 현금결제가 일어남"
   ]
  },
  {
   "cell_type": "markdown",
   "metadata": {},
   "source": [
    "미래의 판매자는 선물거래를 이행할 **의무**를 가짐  \n",
    "미래의 구입자는 선물거래를 계약 이행을 요구할 **권리**를 가짐\n",
    "\n",
    "매수 포지션(Long Position)  \n",
    "매도 포지션(Short Position)"
   ]
  },
  {
   "cell_type": "markdown",
   "metadata": {},
   "source": [
    "#### 5. 옵션의 기본 개념"
   ]
  },
  {
   "cell_type": "markdown",
   "metadata": {},
   "source": [
    "**옵션**: 미래 일정 시점에 일정한 가격으로 기초자산을 사거나 팔 수 있는 권리\n",
    "\n",
    "옵션을 현재 산다는 것은, 미래에 **거래에 대한 권리**를 가지는 것!  \n",
    "옵션을 현재 판다는 것은, 미래에 **거래에 대한 의무**를 가지는 것!"
   ]
  },
  {
   "cell_type": "markdown",
   "metadata": {},
   "source": [
    "옵션 매수자 : 권리를 가짐. 권리는 행사할 수도, 포기할 수도 있다.  \n",
    "옵션 매도자 : 의무를 가짐. 의무는 권리가 행사된다면 반드시 따라야한다.\n",
    "    \n",
    "옵션 매수자가 유리한 상황이므로, 매수자는 매도자에게 프리미엄을 지불한다."
   ]
  },
  {
   "cell_type": "markdown",
   "metadata": {},
   "source": [
    "**콜옵션**: 살 수 있는 권리\n",
    "\n",
    "콜옵션을 산다 = 살 수 있는 권리를 산다  \n",
    "콜옵션을 판다 = 살 수 있는 권리를 판다\n",
    "\n",
    "콜옵션 매수자: 권리를 가짐  \n",
    "콜옵션 매도자: 권리 행사에 따를 의무를 가짐"
   ]
  },
  {
   "cell_type": "markdown",
   "metadata": {},
   "source": [
    "**풋옵션**: 팔 수 있는 권리\n",
    "    \n",
    "풋옵션을 산다 = 팔 수 있는 권리를 산다  \n",
    "풋옵션을 판다 = 팔 수 있는 권리를 판다 \n",
    "\n",
    "풋옵션 매수자: 권리를 가짐  \n",
    "풋옵션 매도자: 권리 행사에 따를 의무를 가짐"
   ]
  },
  {
   "cell_type": "markdown",
   "metadata": {},
   "source": [
    "#### 6. 콜옵션 거래의 손익구조"
   ]
  },
  {
   "cell_type": "markdown",
   "metadata": {},
   "source": [
    "행사가격: 미래시점에서 옵션을 행사 할 때의 거래가격"
   ]
  },
  {
   "cell_type": "markdown",
   "metadata": {},
   "source": [
    "기초자산의 시장가격이 오를 때,  \n",
    "옵션 매수자는 이익: 오른 가격 - 프리미엄  \n",
    "옵션 매도자는 손실: -오른 가격 + 프리미엄"
   ]
  },
  {
   "cell_type": "markdown",
   "metadata": {},
   "source": [
    "#### 7. 콜옵션 거래의 손익 그래프"
   ]
  },
  {
   "cell_type": "markdown",
   "metadata": {},
   "source": [
    "<img width=\"561\" alt=\"calloption\" src=\"https://user-images.githubusercontent.com/49624407/100424138-82292f00-30d0-11eb-9205-ba67f352485e.png\">"
   ]
  },
  {
   "cell_type": "markdown",
   "metadata": {},
   "source": [
    "P : 프리미엄. 옵션의 가격"
   ]
  },
  {
   "cell_type": "markdown",
   "metadata": {},
   "source": [
    "#### 8. 풋옵션 거래의 손익 그래프"
   ]
  },
  {
   "cell_type": "markdown",
   "metadata": {},
   "source": [
    "<img width=\"567\" alt=\"스크린샷 2020-11-30 오전 10 42 28\" src=\"https://user-images.githubusercontent.com/49624407/100560329-d151a880-32f8-11eb-8e4a-bbc977c3233c.png\">"
   ]
  },
  {
   "cell_type": "markdown",
   "metadata": {},
   "source": [
    "#### 9. 스왑 거래의 개념"
   ]
  },
  {
   "cell_type": "markdown",
   "metadata": {},
   "source": [
    "계약 조건등에 따라 정해진 가격으로 일정 시점에 주기적으로 자금 교환이 이루어지는 금융기법"
   ]
  },
  {
   "cell_type": "markdown",
   "metadata": {},
   "source": [
    "**스왑 거래의 종류**\n",
    "\n",
    "|기초자산|스왑|\n",
    "|:---|:---|\n",
    "|이자율(금리)|이자율 스왑|\n",
    "|통화|통화 스왑 / 외환 스왑|\n",
    "|주가(주가지수)|주식 스왑|\n",
    "|원자재|상품 스왑|\n",
    "|신용|신용 스왑|"
   ]
  },
  {
   "cell_type": "markdown",
   "metadata": {},
   "source": [
    "#### 10. 이자율 스왑 구조와 원리"
   ]
  },
  {
   "cell_type": "markdown",
   "metadata": {},
   "source": [
    "고정금리와 변동금리를 교환한다."
   ]
  },
  {
   "cell_type": "markdown",
   "metadata": {},
   "source": [
    "**이자율 스왑을 하는 이유**\n",
    "\n",
    "리스크 헤지. 이자율 위험을 감소시키기 위함\n",
    "\n",
    "고정금리를 수취하는 계약 체결: **Receiver Swap**  \n",
    "고정금리를 지불하는 계약 체결: **Payer Swqp**"
   ]
  },
  {
   "cell_type": "markdown",
   "metadata": {},
   "source": [
    "**CASE 1**\n",
    "\n",
    "(1) A 기업이 C 은행으로 부터 변동금리로 돈을 빌려옴\n",
    "\n",
    "* 금리가 증가한다면, A 기업 입장에서는 C 은행에 갚아야 할 돈이 많아짐: **이자율 위험 발생**\n",
    "\n",
    "(2) A 기업은 이자율 상승이 예상된다면, 이자율 위험을 감소 시킬 목적으로 스왑 은행과 **Receiver Swap 체결(변동금리를 지불, 고정금리 수취)**\n",
    "\n",
    "* C 은행으로 부터 변동금리로 차입한 돈이 마치 고정금리로 차입한 효과가 발생: **이자율 위험 감소**\n",
    "\n",
    "(3) A 기업과 스왑 은행 거래\n",
    "\n",
    "* A: 고정금리를 수취하고, 변동금리를 지불  \n",
    "* 스왑 은행: 고정금리를 지불하고, 변동금리를 수취"
   ]
  },
  {
   "cell_type": "markdown",
   "metadata": {},
   "source": [
    "**CASE 2**\n",
    "\n",
    "(1) B 기업이 D 은행으로 부터 변동금리로 돈을 빌려옴\n",
    "\n",
    "* 금리가 감소한다면, B 기업 입장에서는 D 은행에 시장 이자율에 비해 비싼 금리로 돈을 갚아야함: **이자율 위험 발생**\n",
    "\n",
    "(2) B 기업은 이자율 하락이 예상된다면, 이자율 위험을 감소 시킬 목적으로 스왑 은행과 **Payer Swap 체결(고정금리를 지불, 변동금리 수취)**\n",
    "\n",
    "* D 은행으로 부터 고정금리로 차입한 돈이 마치 변동금리로 차입한 효과가 발생: **이자율 위험 감소**\n",
    "\n",
    "(3) B 기업과 스왑 은행 거래\n",
    "\n",
    "* B: 고정금리를 지불하고, 변동금리를 수취  \n",
    "* 스왑 은행: 고정금리를 수취하고, 변동금리를 지불"
   ]
  },
  {
   "cell_type": "markdown",
   "metadata": {},
   "source": [
    "#### 11. 이자율 스왑 용어"
   ]
  },
  {
   "cell_type": "markdown",
   "metadata": {},
   "source": [
    "**Receiver Swap / Payer Swap**\n",
    "\n",
    "* **고정금리가 기준!**\n",
    "* 고정금리를 수취하는 입장: **Receiver Swap**  \n",
    "* 고정금리를 지불하는 입장: **Payer Swqp**"
   ]
  },
  {
   "cell_type": "markdown",
   "metadata": {},
   "source": [
    "**Long Swap Position / Short Swap Position**\n",
    "\n",
    "* 파생상품에서 보통  \n",
    "    **Long Position**: 기초자산의 가격이 오를 때, 이익을 보는 쪽  \n",
    "    **Short Position**: 기초자산의 가격이 내릴 때, 이익을 보는 쪽\n",
    "\n",
    "\n",
    "* 따라서  \n",
    "    금리가 오를 때 이익인 **Payer Swap은 Long Swap Position을 취했다**고 말함  \n",
    "    금리가 내릴 때 이익이 **Receiver Swap은 Short Swap Position을 취했다**고 말함"
   ]
  },
  {
   "cell_type": "markdown",
   "metadata": {},
   "source": [
    "**Swap Rate / Offer Rate / Bid Rate**\n",
    "\n",
    "* **Swap Rate**: 고정금리로 결정되는 스왑의 가격\n",
    "\n",
    "\n",
    "* CASE 1,2에서 스왑은행은 고정금리를 수취하고 지불하는 포지션을 모두 취함  \n",
    "    이때, B 기업으로 부터 수취하는 고정금리를 **Offer Rate**  \n",
    "    A 기업에 지불하는 고정금리를 **Bid Rate**  \n",
    "    \n",
    "    스왑은행은 **Offer Rate**를 **Bid Rate**보다 높게 책정하여 발생하는 **금리(가격) 차이**를 수익원으로 삼는다."
   ]
  },
  {
   "cell_type": "markdown",
   "metadata": {},
   "source": [
    "**LIBOR**\n",
    "* 국제적으로 사용되는 기준금리로 단기금리\n",
    "* 이자율 스왑에서 변동금리로 많이 사용"
   ]
  },
  {
   "cell_type": "markdown",
   "metadata": {},
   "source": [
    "#### 12. 비교우위모형을 통한 비용 절감"
   ]
  },
  {
   "cell_type": "markdown",
   "metadata": {},
   "source": [
    "**비교우위**: 효율에 있어서 상대적 우위 ( vs 절대우위 )"
   ]
  },
  {
   "cell_type": "markdown",
   "metadata": {},
   "source": [
    "**EXAMPLE**"
   ]
  },
  {
   "cell_type": "markdown",
   "metadata": {},
   "source": [
    "**(1) 대출 금리표**"
   ]
  },
  {
   "cell_type": "markdown",
   "metadata": {},
   "source": [
    "| |고정금리 시장|변동금리 시장|\n",
    "|---|:---:|:---:|\n",
    "|A사|12%|Libor + 0.5%|\n",
    "|B사|11%|Libor|"
   ]
  },
  {
   "cell_type": "markdown",
   "metadata": {},
   "source": [
    "B사의 경우 시장에서 고정금리, 변동금리 모두 A사보다 유리한 조건으로 대출이 가능: B사가 **절대우위**에 있다"
   ]
  },
  {
   "cell_type": "markdown",
   "metadata": {},
   "source": [
    "고정금리 시장에서 B사는 A사보다 1% 만큼 비용 절감이 가능하고,  \n",
    "변동금리 시장에서 B사는 A사보다 0.5% 만큼 비용 절감이 가능하다.\n",
    "\n",
    "1%가 0.5%보다 비용 절감 효율이 크므로  \n",
    "B사는 고정금리 시장에서 **비교우위**에 있고,  \n",
    "A사는 변동금리 시장에서 **비교우위**에 있다.\n",
    "\n",
    "따라서  \n",
    "B사는 고정금리 시장에서 대출을 받고,  \n",
    "A사는 변동금리 시장에서 대출을 받는 의사결정을 할 것이다."
   ]
  },
  {
   "cell_type": "markdown",
   "metadata": {},
   "source": [
    "**(2) 스왑은행의 스왑 가격**"
   ]
  },
  {
   "cell_type": "markdown",
   "metadata": {},
   "source": [
    "| |스왑 가격|\n",
    "|---|:---:|\n",
    "|고정금리|11.25%-11.20%|\n",
    "|변동금리|Libor|"
   ]
  },
  {
   "cell_type": "markdown",
   "metadata": {},
   "source": [
    "11.25%-11.20%: **Offer-Bid Rate 표기 방식** ( Offer Rate: 11.25% / Bid Rate: 11.20% )"
   ]
  },
  {
   "cell_type": "markdown",
   "metadata": {},
   "source": [
    "**(3) 이자율 스왑계약으로 비용절감**"
   ]
  },
  {
   "cell_type": "markdown",
   "metadata": {},
   "source": [
    "<img width=\"586\" alt=\"스크린샷 2020-12-02 오후 2 10 17\" src=\"https://user-images.githubusercontent.com/49624407/100830984-2a137380-34a8-11eb-90cf-586670d6356a.png\">"
   ]
  },
  {
   "cell_type": "markdown",
   "metadata": {},
   "source": [
    "A사는 변동금리 시장에서 대출을 받고, 스왑은행과 Payer Swap을 체결  \n",
    "최종적으로 A사 대출 이자율은 11.75% 인데,  \n",
    "이는 고정금리 시장 대출 이자율인 12% 보다 낮다.  \n",
    "**A사는 0.25% 금리 만큼 비용 절감을 했다.**"
   ]
  },
  {
   "cell_type": "markdown",
   "metadata": {},
   "source": [
    "<img width=\"584\" alt=\"스크린샷 2020-12-02 오후 2 16 26\" src=\"https://user-images.githubusercontent.com/49624407/100831364-013fae00-34a9-11eb-90da-f8d626b57ce5.png\">"
   ]
  },
  {
   "cell_type": "markdown",
   "metadata": {},
   "source": [
    "B사는 고정금리 시장에서 대출을 받고, 스왑은행과 Receiver Swap을 체결  \n",
    "최종적으로 B사 대출 이자율은 Libor-0.2% 인데,  \n",
    "이는 변동금리 시장 대출 이자율인 Libor 보다 낮다.  \n",
    "**B사는 0.2% 금리 만큼 비용 절감을 했다.**"
   ]
  },
  {
   "cell_type": "markdown",
   "metadata": {},
   "source": [
    "#### 13.통화 스왑 구조와 원리"
   ]
  },
  {
   "cell_type": "markdown",
   "metadata": {},
   "source": [
    "**통화 스왑**: 두 거래자가 환율을 정한 뒤, 초기 시점에 통화를 교환하고 만기 때에도 동일한 환율로 통화를 교환하는 거래\n",
    "* 미래의 환율을 고정시켜서 환율의 상승이나 하락으로 오는 위험을 감소시킴"
   ]
  },
  {
   "cell_type": "markdown",
   "metadata": {},
   "source": [
    "<img width=\"555\" alt=\"스크린샷 2020-12-02 오후 2 38 51\" src=\"https://user-images.githubusercontent.com/49624407/100832908-25e95500-34ac-11eb-976e-908270749704.png\">"
   ]
  },
  {
   "cell_type": "markdown",
   "metadata": {},
   "source": [
    "**초기시점**  \n",
    "통화 스왑 계약을 체결. 환율을 결정"
   ]
  },
  {
   "cell_type": "markdown",
   "metadata": {},
   "source": [
    "**이자교환 시점**  \n",
    "미래 시점의 환율 고정을 제외한 효과는 제거: 교환한 통화에서 발생한 이자는 돌려줌  \n",
    "A사는 1달러에서 발생한 이자를 스왑은행에 돌려주고,  \n",
    "스왑은행은 1,100원에서 발생한 이자를 A사에 돌려준다.  \n",
    "**이때 환율은 초기시점에서 정한 환율과 다를 수 있다.**"
   ]
  },
  {
   "cell_type": "markdown",
   "metadata": {},
   "source": [
    "**만기시점**  \n",
    "초기시점에 정한 환율로 통화를 교환한다."
   ]
  },
  {
   "cell_type": "markdown",
   "metadata": {},
   "source": [
    "**[이자율 스왑과 통화 스왑 비교]**\n",
    "* **이자율 스왑**: 동일 통화 간의 이자 교환 계약이라서 실제 원금 교환은 일어나지 않음\n",
    "* **통화 스왑**: 이종 통화 간의 원금+이자 교환 계약이라서 실제로 원금 교환이 일어남"
   ]
  }
 ],
 "metadata": {
  "kernelspec": {
   "display_name": "Python 3",
   "language": "python",
   "name": "python3"
  },
  "language_info": {
   "codemirror_mode": {
    "name": "ipython",
    "version": 3
   },
   "file_extension": ".py",
   "mimetype": "text/x-python",
   "name": "python",
   "nbconvert_exporter": "python",
   "pygments_lexer": "ipython3",
   "version": "3.7.6"
  },
  "toc": {
   "base_numbering": 1,
   "nav_menu": {},
   "number_sections": false,
   "sideBar": true,
   "skip_h1_title": false,
   "title_cell": "Table of Contents",
   "title_sidebar": "Contents",
   "toc_cell": false,
   "toc_position": {
    "height": "calc(100% - 180px)",
    "left": "10px",
    "top": "150px",
    "width": "225px"
   },
   "toc_section_display": true,
   "toc_window_display": true
  }
 },
 "nbformat": 4,
 "nbformat_minor": 4
}
